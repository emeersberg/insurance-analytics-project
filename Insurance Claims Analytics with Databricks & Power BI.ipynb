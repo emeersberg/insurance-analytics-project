{
 "cells": [
  {
   "cell_type": "code",
   "execution_count": 0,
   "metadata": {
    "application/vnd.databricks.v1+cell": {
     "cellMetadata": {
      "byteLimit": 2048000,
      "rowLimit": 10000
     },
     "inputWidgets": {},
     "nuid": "64e1fe70-dd54-4b76-b8ea-65d2302983bf",
     "showTitle": false,
     "tableResultSettingsMap": {},
     "title": ""
    }
   },
   "outputs": [],
   "source": [
    "from pyspark.sql import SparkSession\n",
    "from pyspark.sql.functions import col, year"
   ]
  },
  {
   "cell_type": "code",
   "execution_count": 0,
   "metadata": {
    "application/vnd.databricks.v1+cell": {
     "cellMetadata": {
      "byteLimit": 2048000,
      "rowLimit": 10000
     },
     "inputWidgets": {},
     "nuid": "bc5aae6a-55fe-4631-8cca-8f844129b46b",
     "showTitle": false,
     "tableResultSettingsMap": {},
     "title": ""
    }
   },
   "outputs": [],
   "source": [
    "# Initialize Spark session (in Databricks this is already available)\n",
    "spark = SparkSession.builder.appName(\"InsuranceClaimsAnalysis\").getOrCreate()"
   ]
  },
  {
   "cell_type": "code",
   "execution_count": 0,
   "metadata": {
    "application/vnd.databricks.v1+cell": {
     "cellMetadata": {
      "byteLimit": 2048000,
      "rowLimit": 10000
     },
     "inputWidgets": {},
     "nuid": "b0785e85-0d1f-4b31-bc9d-b372f03541b4",
     "showTitle": false,
     "tableResultSettingsMap": {},
     "title": ""
    }
   },
   "outputs": [],
   "source": [
    "# Load CSV files\n",
    "policy_df = spark.read.csv(\"dbfs:/FileStore/tables/Policy_Holders_v3.csv\", header=True, inferSchema=True)\n",
    "claims_df = spark.read.csv(\"dbfs:/FileStore/tables/Claims_v3.csv\", header=True, inferSchema=True)\n",
    "adjusters_df = spark.read.csv(\"dbfs:/FileStore/tables/Adjusters_v3.csv\", header=True, inferSchema=True)"
   ]
  },
  {
   "cell_type": "code",
   "execution_count": 0,
   "metadata": {
    "application/vnd.databricks.v1+cell": {
     "cellMetadata": {
      "byteLimit": 2048000,
      "rowLimit": 10000
     },
     "inputWidgets": {},
     "nuid": "7cf456b0-b5d0-49e9-a820-86e6dd4885f4",
     "showTitle": false,
     "tableResultSettingsMap": {},
     "title": ""
    }
   },
   "outputs": [],
   "source": [
    "# Join datasets\n",
    "claims_with_policy = claims_df.join(policy_df, on=\"PolicyID\", how=\"inner\")\n",
    "full_data = claims_with_policy.join(adjusters_df, on=\"AdjusterID\", how=\"left\")"
   ]
  },
  {
   "cell_type": "code",
   "execution_count": 0,
   "metadata": {
    "application/vnd.databricks.v1+cell": {
     "cellMetadata": {
      "byteLimit": 2048000,
      "rowLimit": 10000
     },
     "inputWidgets": {},
     "nuid": "4ab0f206-7726-46fd-ad29-5b46f68c4ce3",
     "showTitle": false,
     "tableResultSettingsMap": {},
     "title": ""
    }
   },
   "outputs": [],
   "source": [
    "# Example analysis: Total claim amount by policy type and year\n",
    "claims_by_type_year = (\n",
    "    full_data.withColumn(\"Year\", year(\"ClaimDate\"))\n",
    "    .groupBy(\"PolicyType\", \"Year\")\n",
    "    .sum(\"ClaimAmount\")\n",
    "    .withColumnRenamed(\"sum(ClaimAmount)\", \"TotalClaimAmount\")\n",
    "    .orderBy(\"Year\", \"PolicyType\")\n",
    ")"
   ]
  },
  {
   "cell_type": "code",
   "execution_count": 0,
   "metadata": {
    "application/vnd.databricks.v1+cell": {
     "cellMetadata": {
      "byteLimit": 2048000,
      "rowLimit": 10000
     },
     "inputWidgets": {},
     "nuid": "cf594498-d852-49fb-b87f-4112799ae777",
     "showTitle": false,
     "tableResultSettingsMap": {},
     "title": ""
    }
   },
   "outputs": [
    {
     "output_type": "stream",
     "name": "stdout",
     "output_type": "stream",
     "text": [
      "+----------+----+----------------+\n|PolicyType|Year|TotalClaimAmount|\n+----------+----+----------------+\n|      Auto|2021|          155804|\n|      Home|2021|          174185|\n|      Life|2021|          207133|\n|      Auto|2022|          159784|\n|      Home|2022|          177559|\n|      Life|2022|          224096|\n|      Auto|2023|          176114|\n|      Home|2023|           95552|\n|      Life|2023|          235902|\n+----------+----+----------------+\n\n"
     ]
    }
   ],
   "source": [
    "# Show the results\n",
    "claims_by_type_year.show(10)"
   ]
  },
  {
   "cell_type": "code",
   "execution_count": 0,
   "metadata": {
    "application/vnd.databricks.v1+cell": {
     "cellMetadata": {
      "byteLimit": 2048000,
      "rowLimit": 10000
     },
     "inputWidgets": {},
     "nuid": "33bf56be-62c1-491a-b1b3-7ce9037e0e81",
     "showTitle": false,
     "tableResultSettingsMap": {},
     "title": ""
    }
   },
   "outputs": [],
   "source": [
    "# Save joined data for Power BI import\n",
    "full_data.write.mode(\"overwrite\").option(\"header\", True).csv(\"/mnt/data/Claims_Joined_Data\")"
   ]
  }
 ],
 "metadata": {
  "application/vnd.databricks.v1+notebook": {
   "computePreferences": null,
   "dashboards": [],
   "environmentMetadata": {
    "base_environment": "",
    "environment_version": "1"
   },
   "inputWidgetPreferences": null,
   "language": "python",
   "notebookMetadata": {
    "pythonIndentUnit": 4
   },
   "notebookName": "Insurance Claims Analytics with Databricks & Power BI",
   "widgets": {}
  }
 },
 "nbformat": 4,
 "nbformat_minor": 0
}